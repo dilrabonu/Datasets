{
  "nbformat": 4,
  "nbformat_minor": 0,
  "metadata": {
    "colab": {
      "provenance": [],
      "authorship_tag": "ABX9TyPUGIYkP9LbdntuGdH3AaKl",
      "include_colab_link": true
    },
    "kernelspec": {
      "name": "python3",
      "display_name": "Python 3"
    },
    "language_info": {
      "name": "python"
    }
  },
  "cells": [
    {
      "cell_type": "markdown",
      "metadata": {
        "id": "view-in-github",
        "colab_type": "text"
      },
      "source": [
        "<a href=\"https://colab.research.google.com/github/dilrabonu/python-step1/blob/main/unique_in1d_setdiff1d.ipynb\" target=\"_parent\"><img src=\"https://colab.research.google.com/assets/colab-badge.svg\" alt=\"Open In Colab\"/></a>"
      ]
    },
    {
      "cell_type": "code",
      "execution_count": 1,
      "metadata": {
        "id": "MME0G9Fti6_E"
      },
      "outputs": [],
      "source": [
        "import numpy as np"
      ]
    },
    {
      "cell_type": "code",
      "source": [
        "#data\n",
        "names=np.array([\"Iqbol\", \"Iftihorbek\", \"Ismoilbek\",\"Iqbol\", \"Dilrabo\", \"Farzonabonu\", \"Iftihorbek\"])\n",
        "ints= np.array([3, 3, 3, 2, 2, 1, 1, 4, 4])"
      ],
      "metadata": {
        "id": "eAkmg1kTi9mP"
      },
      "execution_count": 2,
      "outputs": []
    },
    {
      "cell_type": "code",
      "source": [
        "#unique\n",
        "np.unique(names) # namesdagi takrorlanmas ismlarni qaytaradi"
      ],
      "metadata": {
        "colab": {
          "base_uri": "https://localhost:8080/"
        },
        "id": "QjvZl3ob7EXi",
        "outputId": "7ef33ea7-3da3-4f42-da92-33afc060f3ec"
      },
      "execution_count": 3,
      "outputs": [
        {
          "output_type": "execute_result",
          "data": {
            "text/plain": [
              "array(['Dilrabo', 'Farzonabonu', 'Iftihorbek', 'Iqbol', 'Ismoilbek'],\n",
              "      dtype='<U11')"
            ]
          },
          "metadata": {},
          "execution_count": 3
        }
      ]
    },
    {
      "cell_type": "code",
      "source": [
        "np.unique(ints)"
      ],
      "metadata": {
        "colab": {
          "base_uri": "https://localhost:8080/"
        },
        "id": "VyXPCYDY7S7O",
        "outputId": "7049f36f-ec3c-43c5-ee76-6ddba22324d8"
      },
      "execution_count": 4,
      "outputs": [
        {
          "output_type": "execute_result",
          "data": {
            "text/plain": [
              "array([1, 2, 3, 4])"
            ]
          },
          "metadata": {},
          "execution_count": 4
        }
      ]
    },
    {
      "cell_type": "code",
      "source": [
        "set(names)# namesdagi takrorlanmas ismlarni qaytaradi unique bn bir xil"
      ],
      "metadata": {
        "colab": {
          "base_uri": "https://localhost:8080/"
        },
        "id": "vU24S-p376_E",
        "outputId": "47f6fac7-dd80-42fc-a0d0-5685ecf502c8"
      },
      "execution_count": 5,
      "outputs": [
        {
          "output_type": "execute_result",
          "data": {
            "text/plain": [
              "{'Dilrabo', 'Farzonabonu', 'Iftihorbek', 'Iqbol', 'Ismoilbek'}"
            ]
          },
          "metadata": {},
          "execution_count": 5
        }
      ]
    },
    {
      "cell_type": "code",
      "source": [
        "#data in1d\n",
        "arr1= np.array ([6, 4, 5, 8, 1, 0, 9, 2, 3])\n",
        "arr2= np.array([6, 0, 2, 89, 92, 1, ])"
      ],
      "metadata": {
        "id": "-r8y7MoN89kP"
      },
      "execution_count": 6,
      "outputs": []
    },
    {
      "cell_type": "code",
      "source": [
        "np.in1d(arr1, arr2)"
      ],
      "metadata": {
        "colab": {
          "base_uri": "https://localhost:8080/"
        },
        "id": "JNfbLQDb-AOb",
        "outputId": "9cc8c948-5e2f-42da-e176-dbb09d6a7ff0"
      },
      "execution_count": 7,
      "outputs": [
        {
          "output_type": "execute_result",
          "data": {
            "text/plain": [
              "array([ True, False, False, False,  True,  True, False,  True, False])"
            ]
          },
          "metadata": {},
          "execution_count": 7
        }
      ]
    },
    {
      "cell_type": "code",
      "source": [
        "#data setdiff1d\n",
        "names1= np.array([\"Iqbol\", \"Iftihorbek\", \"Ismoilbek\",\"Rauf\", \"Dilrabo\", \"Farzonabonu\", \"Iftihorbek\"])\n",
        "names2= np.array([\"Iqbol\", \"Islom\", \"Ismoilbek\",\"Rasul\", \"Dilrabo\", \"Farzonabonu\", \"Iftihorbek\"])"
      ],
      "metadata": {
        "id": "Em5N_MsT-EKC"
      },
      "execution_count": 8,
      "outputs": []
    },
    {
      "cell_type": "code",
      "source": [
        "np.setdiff1d(names1, names2)"
      ],
      "metadata": {
        "colab": {
          "base_uri": "https://localhost:8080/"
        },
        "id": "aVi97urY_GU5",
        "outputId": "65da7c40-8a0b-4a80-a907-d1f581a9589e"
      },
      "execution_count": 9,
      "outputs": [
        {
          "output_type": "execute_result",
          "data": {
            "text/plain": [
              "array(['Rauf'], dtype='<U11')"
            ]
          },
          "metadata": {},
          "execution_count": 9
        }
      ]
    },
    {
      "cell_type": "code",
      "source": [],
      "metadata": {
        "id": "sdxvqBN5_KtX"
      },
      "execution_count": null,
      "outputs": []
    }
  ]
}
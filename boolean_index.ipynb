{
  "nbformat": 4,
  "nbformat_minor": 0,
  "metadata": {
    "colab": {
      "provenance": [],
      "authorship_tag": "ABX9TyOMLzV2WcfBox+PZMRuHG2J",
      "include_colab_link": true
    },
    "kernelspec": {
      "name": "python3",
      "display_name": "Python 3"
    },
    "language_info": {
      "name": "python"
    }
  },
  "cells": [
    {
      "cell_type": "markdown",
      "metadata": {
        "id": "view-in-github",
        "colab_type": "text"
      },
      "source": [
        "<a href=\"https://colab.research.google.com/github/dilrabonu/python-step1/blob/main/boolean_index.ipynb\" target=\"_parent\"><img src=\"https://colab.research.google.com/assets/colab-badge.svg\" alt=\"Open In Colab\"/></a>"
      ]
    },
    {
      "cell_type": "code",
      "execution_count": 4,
      "metadata": {
        "id": "C6wC1O-wUVCM"
      },
      "outputs": [],
      "source": [
        "import numpy as np"
      ]
    },
    {
      "cell_type": "code",
      "source": [
        "#Ismlar\n",
        "names= np.array (['Dilrabo', 'Iqbol', 'Iftihorbek', 'Farzonabonu','Iqbol', 'Ismoilbek',  'Iftihorbek'])\n",
        "names"
      ],
      "metadata": {
        "colab": {
          "base_uri": "https://localhost:8080/"
        },
        "id": "rTCIdcWyUo61",
        "outputId": "3c1dc783-888f-4fee-f378-07a2c19d3b41"
      },
      "execution_count": 7,
      "outputs": [
        {
          "output_type": "execute_result",
          "data": {
            "text/plain": [
              "array(['Dilrabo', 'Iqbol', 'Iftihorbek', 'Farzonabonu', 'Iqbol',\n",
              "       'Ismoilbek', 'Iftihorbek'], dtype='<U11')"
            ]
          },
          "metadata": {},
          "execution_count": 7
        }
      ]
    },
    {
      "cell_type": "code",
      "source": [
        "#data\n",
        "data=np.random.randn(7,4)\n",
        "data"
      ],
      "metadata": {
        "colab": {
          "base_uri": "https://localhost:8080/"
        },
        "id": "_aSYC7VFVCZV",
        "outputId": "20a82f06-24b8-47f7-b3eb-c2a077494057"
      },
      "execution_count": 9,
      "outputs": [
        {
          "output_type": "execute_result",
          "data": {
            "text/plain": [
              "array([[-2.20442072,  0.14554725,  0.02415951,  0.62988298],\n",
              "       [ 1.40363421,  0.71210121, -0.11155355,  0.96311361],\n",
              "       [-0.86927461, -0.31902813,  0.31043235, -1.09269996],\n",
              "       [-0.00922377, -0.23160146, -0.42032713, -0.8563358 ],\n",
              "       [-1.08248599,  0.67119646,  2.11302618, -0.35918109],\n",
              "       [ 0.6227708 , -0.62959237, -0.81319168,  0.57811112],\n",
              "       [-0.14614854,  0.3920003 , -0.82168245,  1.51257983]])"
            ]
          },
          "metadata": {},
          "execution_count": 9
        }
      ]
    },
    {
      "cell_type": "code",
      "source": [
        "names == \"Iqbol\""
      ],
      "metadata": {
        "id": "x8dJRbuladni",
        "colab": {
          "base_uri": "https://localhost:8080/"
        },
        "outputId": "6641681a-87ae-4473-c49b-edf357531d4b"
      },
      "execution_count": 10,
      "outputs": [
        {
          "output_type": "execute_result",
          "data": {
            "text/plain": [
              "array([False,  True, False, False,  True, False, False])"
            ]
          },
          "metadata": {},
          "execution_count": 10
        }
      ]
    },
    {
      "cell_type": "code",
      "source": [
        "data [names == \"Iqbol\"] # iqbolga tegishli barcha malumotlarni ajratamiz boolen orqali"
      ],
      "metadata": {
        "colab": {
          "base_uri": "https://localhost:8080/"
        },
        "id": "TxkELRpW89VM",
        "outputId": "62d6ac16-cb40-49d9-973c-6cd55d096fc6"
      },
      "execution_count": 11,
      "outputs": [
        {
          "output_type": "execute_result",
          "data": {
            "text/plain": [
              "array([[ 1.40363421,  0.71210121, -0.11155355,  0.96311361],\n",
              "       [-1.08248599,  0.67119646,  2.11302618, -0.35918109]])"
            ]
          },
          "metadata": {},
          "execution_count": 11
        }
      ]
    },
    {
      "cell_type": "code",
      "source": [
        "data [names == \"Ismoilbek\"]"
      ],
      "metadata": {
        "colab": {
          "base_uri": "https://localhost:8080/"
        },
        "id": "xJOaBbVU_vNd",
        "outputId": "0f5b567a-8567-42a5-a1c5-c7adb51c6169"
      },
      "execution_count": 12,
      "outputs": [
        {
          "output_type": "execute_result",
          "data": {
            "text/plain": [
              "array([[ 0.6227708 , -0.62959237, -0.81319168,  0.57811112]])"
            ]
          },
          "metadata": {},
          "execution_count": 12
        }
      ]
    },
    {
      "cell_type": "code",
      "source": [
        "data [names== \"Iqbol\", 2:] #Iqbolni ichidagi oxirgi ma'lumotlar"
      ],
      "metadata": {
        "colab": {
          "base_uri": "https://localhost:8080/"
        },
        "id": "jyIf_Pm__03L",
        "outputId": "fccc2f44-2350-42ae-963c-169e4977075d"
      },
      "execution_count": 13,
      "outputs": [
        {
          "output_type": "execute_result",
          "data": {
            "text/plain": [
              "array([[-0.11155355,  0.96311361],\n",
              "       [ 2.11302618, -0.35918109]])"
            ]
          },
          "metadata": {},
          "execution_count": 13
        }
      ]
    },
    {
      "cell_type": "code",
      "source": [
        "data [names!= \"Iqbol\"] # Iqbolga tegishli bo'lmagan barcha ma'lumotlarni ko'rsatadi"
      ],
      "metadata": {
        "colab": {
          "base_uri": "https://localhost:8080/"
        },
        "id": "OzaBTzLLAEnS",
        "outputId": "07674c25-1d2f-4305-eb9d-0632f65ac33b"
      },
      "execution_count": 14,
      "outputs": [
        {
          "output_type": "execute_result",
          "data": {
            "text/plain": [
              "array([[-2.20442072,  0.14554725,  0.02415951,  0.62988298],\n",
              "       [-0.86927461, -0.31902813,  0.31043235, -1.09269996],\n",
              "       [-0.00922377, -0.23160146, -0.42032713, -0.8563358 ],\n",
              "       [ 0.6227708 , -0.62959237, -0.81319168,  0.57811112],\n",
              "       [-0.14614854,  0.3920003 , -0.82168245,  1.51257983]])"
            ]
          },
          "metadata": {},
          "execution_count": 14
        }
      ]
    },
    {
      "cell_type": "code",
      "source": [
        "data [~(names== \"Iqbol\")] # ~ bu belgi bn ham Iqbolga tegishli bo'lmagan barcha ma'lumotlarni chiqarish un foydalanamiz"
      ],
      "metadata": {
        "colab": {
          "base_uri": "https://localhost:8080/"
        },
        "id": "ttMjoYz7BACd",
        "outputId": "0092bb8f-415e-43e9-d01c-f72bd553ad51"
      },
      "execution_count": 15,
      "outputs": [
        {
          "output_type": "execute_result",
          "data": {
            "text/plain": [
              "array([[-2.20442072,  0.14554725,  0.02415951,  0.62988298],\n",
              "       [-0.86927461, -0.31902813,  0.31043235, -1.09269996],\n",
              "       [-0.00922377, -0.23160146, -0.42032713, -0.8563358 ],\n",
              "       [ 0.6227708 , -0.62959237, -0.81319168,  0.57811112],\n",
              "       [-0.14614854,  0.3920003 , -0.82168245,  1.51257983]])"
            ]
          },
          "metadata": {},
          "execution_count": 15
        }
      ]
    },
    {
      "cell_type": "code",
      "source": [
        "print (names)\n",
        "print (data)"
      ],
      "metadata": {
        "colab": {
          "base_uri": "https://localhost:8080/"
        },
        "id": "8ro11ppFBLn-",
        "outputId": "bc68b1ba-8ad0-42df-a259-2fa2eb720db8"
      },
      "execution_count": 16,
      "outputs": [
        {
          "output_type": "stream",
          "name": "stdout",
          "text": [
            "['Dilrabo' 'Iqbol' 'Iftihorbek' 'Farzonabonu' 'Iqbol' 'Ismoilbek'\n",
            " 'Iftihorbek']\n",
            "[[-2.20442072  0.14554725  0.02415951  0.62988298]\n",
            " [ 1.40363421  0.71210121 -0.11155355  0.96311361]\n",
            " [-0.86927461 -0.31902813  0.31043235 -1.09269996]\n",
            " [-0.00922377 -0.23160146 -0.42032713 -0.8563358 ]\n",
            " [-1.08248599  0.67119646  2.11302618 -0.35918109]\n",
            " [ 0.6227708  -0.62959237 -0.81319168  0.57811112]\n",
            " [-0.14614854  0.3920003  -0.82168245  1.51257983]]\n"
          ]
        }
      ]
    },
    {
      "cell_type": "code",
      "source": [
        "mask = (names== \"Iqbol\") | (names == \"Dilrabo\") # | belgi or yoki degan ma'noni beradi\n",
        "mask"
      ],
      "metadata": {
        "colab": {
          "base_uri": "https://localhost:8080/"
        },
        "id": "M844aQ8tBluF",
        "outputId": "0ed12a93-57db-4e70-fe62-a862deabd105"
      },
      "execution_count": 19,
      "outputs": [
        {
          "output_type": "execute_result",
          "data": {
            "text/plain": [
              "array([ True,  True, False, False,  True, False, False])"
            ]
          },
          "metadata": {},
          "execution_count": 19
        }
      ]
    },
    {
      "cell_type": "code",
      "source": [
        "data [mask] # Iqbol va Dilraboga tegishli ma'lumotlarni chaqirib berdi"
      ],
      "metadata": {
        "colab": {
          "base_uri": "https://localhost:8080/"
        },
        "id": "G_7vGBz6Bsbd",
        "outputId": "5e0713fd-09e2-4a8d-9727-071681f0a8b4"
      },
      "execution_count": 20,
      "outputs": [
        {
          "output_type": "execute_result",
          "data": {
            "text/plain": [
              "array([[-2.20442072,  0.14554725,  0.02415951,  0.62988298],\n",
              "       [ 1.40363421,  0.71210121, -0.11155355,  0.96311361],\n",
              "       [-1.08248599,  0.67119646,  2.11302618, -0.35918109]])"
            ]
          },
          "metadata": {},
          "execution_count": 20
        }
      ]
    },
    {
      "cell_type": "code",
      "source": [
        "data [data<0]"
      ],
      "metadata": {
        "colab": {
          "base_uri": "https://localhost:8080/"
        },
        "id": "NjlaxJCJCqz9",
        "outputId": "9328bfc9-bfa8-4405-abff-f4bb8bedf2f7"
      },
      "execution_count": 22,
      "outputs": [
        {
          "output_type": "execute_result",
          "data": {
            "text/plain": [
              "array([-2.20442072, -0.11155355, -0.86927461, -0.31902813, -1.09269996,\n",
              "       -0.00922377, -0.23160146, -0.42032713, -0.8563358 , -1.08248599,\n",
              "       -0.35918109, -0.62959237, -0.81319168, -0.14614854, -0.82168245])"
            ]
          },
          "metadata": {},
          "execution_count": 22
        }
      ]
    },
    {
      "cell_type": "code",
      "source": [
        "data [data<0]= 0\n",
        "data"
      ],
      "metadata": {
        "colab": {
          "base_uri": "https://localhost:8080/"
        },
        "id": "5MvTGgk7Eqpk",
        "outputId": "14f5e670-7ce6-4290-abcf-eb3c98b0e66f"
      },
      "execution_count": 23,
      "outputs": [
        {
          "output_type": "execute_result",
          "data": {
            "text/plain": [
              "array([[0.        , 0.14554725, 0.02415951, 0.62988298],\n",
              "       [1.40363421, 0.71210121, 0.        , 0.96311361],\n",
              "       [0.        , 0.        , 0.31043235, 0.        ],\n",
              "       [0.        , 0.        , 0.        , 0.        ],\n",
              "       [0.        , 0.67119646, 2.11302618, 0.        ],\n",
              "       [0.6227708 , 0.        , 0.        , 0.57811112],\n",
              "       [0.        , 0.3920003 , 0.        , 1.51257983]])"
            ]
          },
          "metadata": {},
          "execution_count": 23
        }
      ]
    },
    {
      "cell_type": "code",
      "source": [],
      "metadata": {
        "id": "QHqQlH7hEyNU"
      },
      "execution_count": null,
      "outputs": []
    }
  ]
}
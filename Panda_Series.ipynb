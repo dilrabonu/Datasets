{
  "nbformat": 4,
  "nbformat_minor": 0,
  "metadata": {
    "colab": {
      "provenance": [],
      "authorship_tag": "ABX9TyP/WPvGckFkIFa6sPvdCS1p",
      "include_colab_link": true
    },
    "kernelspec": {
      "name": "python3",
      "display_name": "Python 3"
    },
    "language_info": {
      "name": "python"
    }
  },
  "cells": [
    {
      "cell_type": "markdown",
      "metadata": {
        "id": "view-in-github",
        "colab_type": "text"
      },
      "source": [
        "<a href=\"https://colab.research.google.com/github/dilrabonu/python-step1/blob/main/Panda_Series.ipynb\" target=\"_parent\"><img src=\"https://colab.research.google.com/assets/colab-badge.svg\" alt=\"Open In Colab\"/></a>"
      ]
    },
    {
      "cell_type": "code",
      "execution_count": 1,
      "metadata": {
        "id": "Ep7QYhnQHjd6"
      },
      "outputs": [],
      "source": [
        "import pandas as pd"
      ]
    },
    {
      "cell_type": "code",
      "source": [
        "import numpy as np"
      ],
      "metadata": {
        "id": "CvL3FYvlHxUp"
      },
      "execution_count": 2,
      "outputs": []
    },
    {
      "cell_type": "code",
      "source": [
        "from pandas import Series"
      ],
      "metadata": {
        "id": "Mgkf6KWnHy8N"
      },
      "execution_count": 4,
      "outputs": []
    },
    {
      "cell_type": "code",
      "source": [
        "obj= Series ([4, 5, 6, 7])\n",
        "obj"
      ],
      "metadata": {
        "colab": {
          "base_uri": "https://localhost:8080/"
        },
        "id": "mYTgsuFiH7CU",
        "outputId": "c0621105-d70a-456e-9683-71a863a279c8"
      },
      "execution_count": 5,
      "outputs": [
        {
          "output_type": "execute_result",
          "data": {
            "text/plain": [
              "0    4\n",
              "1    5\n",
              "2    6\n",
              "3    7\n",
              "dtype: int64"
            ]
          },
          "metadata": {},
          "execution_count": 5
        }
      ]
    },
    {
      "cell_type": "code",
      "source": [
        "obj.index"
      ],
      "metadata": {
        "colab": {
          "base_uri": "https://localhost:8080/"
        },
        "id": "v-YdjxkGKQ60",
        "outputId": "63e4ce75-7628-4cbc-c30b-a6ca3aa16bf9"
      },
      "execution_count": 6,
      "outputs": [
        {
          "output_type": "execute_result",
          "data": {
            "text/plain": [
              "RangeIndex(start=0, stop=4, step=1)"
            ]
          },
          "metadata": {},
          "execution_count": 6
        }
      ]
    },
    {
      "cell_type": "code",
      "source": [
        "type (obj)"
      ],
      "metadata": {
        "colab": {
          "base_uri": "https://localhost:8080/"
        },
        "id": "fV8sG5krKTAQ",
        "outputId": "54b17a5e-8316-47ea-9783-e5d539778ced"
      },
      "execution_count": 9,
      "outputs": [
        {
          "output_type": "execute_result",
          "data": {
            "text/plain": [
              "pandas.core.series.Series"
            ]
          },
          "metadata": {},
          "execution_count": 9
        }
      ]
    },
    {
      "cell_type": "code",
      "source": [
        "obj.values"
      ],
      "metadata": {
        "colab": {
          "base_uri": "https://localhost:8080/"
        },
        "id": "C5Isn1MeKZzp",
        "outputId": "31115ac6-2627-4528-db3c-02c632e91333"
      },
      "execution_count": 10,
      "outputs": [
        {
          "output_type": "execute_result",
          "data": {
            "text/plain": [
              "array([4, 5, 6, 7])"
            ]
          },
          "metadata": {},
          "execution_count": 10
        }
      ]
    },
    {
      "cell_type": "code",
      "source": [
        "obj[2]"
      ],
      "metadata": {
        "colab": {
          "base_uri": "https://localhost:8080/"
        },
        "id": "J6dIfF3VKiDT",
        "outputId": "f6fc3d02-7760-4414-abd7-b3443f8e0969"
      },
      "execution_count": 11,
      "outputs": [
        {
          "output_type": "execute_result",
          "data": {
            "text/plain": [
              "6"
            ]
          },
          "metadata": {},
          "execution_count": 11
        }
      ]
    },
    {
      "cell_type": "code",
      "source": [
        "obj2=Series ([7, 1, 3, 6, 8], index= [\"a\", \"b\", \"c\", \"d\", \"e\"])\n",
        "obj2"
      ],
      "metadata": {
        "colab": {
          "base_uri": "https://localhost:8080/"
        },
        "id": "YxVEevOcKoPV",
        "outputId": "a407369f-9218-40eb-bbe3-cbef4f37d1c1"
      },
      "execution_count": 12,
      "outputs": [
        {
          "output_type": "execute_result",
          "data": {
            "text/plain": [
              "a    7\n",
              "b    1\n",
              "c    3\n",
              "d    6\n",
              "e    8\n",
              "dtype: int64"
            ]
          },
          "metadata": {},
          "execution_count": 12
        }
      ]
    },
    {
      "cell_type": "code",
      "source": [
        "obj2[\"b\"]"
      ],
      "metadata": {
        "colab": {
          "base_uri": "https://localhost:8080/"
        },
        "id": "tnMj7RRHK5s7",
        "outputId": "248538d1-7896-4251-ced7-11b9384f9b99"
      },
      "execution_count": 13,
      "outputs": [
        {
          "output_type": "execute_result",
          "data": {
            "text/plain": [
              "1"
            ]
          },
          "metadata": {},
          "execution_count": 13
        }
      ]
    },
    {
      "cell_type": "code",
      "source": [
        "obj2 [obj2> 2]"
      ],
      "metadata": {
        "colab": {
          "base_uri": "https://localhost:8080/"
        },
        "id": "f8Ccgsf3K8VP",
        "outputId": "340cc644-a9f8-4e37-b4e5-2e64339f42a4"
      },
      "execution_count": 14,
      "outputs": [
        {
          "output_type": "execute_result",
          "data": {
            "text/plain": [
              "a    7\n",
              "c    3\n",
              "d    6\n",
              "e    8\n",
              "dtype: int64"
            ]
          },
          "metadata": {},
          "execution_count": 14
        }
      ]
    },
    {
      "cell_type": "code",
      "source": [
        "obj2 [obj2 <7]"
      ],
      "metadata": {
        "colab": {
          "base_uri": "https://localhost:8080/"
        },
        "id": "TEy4LYCALDHC",
        "outputId": "60bc632c-93dc-4126-ee15-2b5d2967cfad"
      },
      "execution_count": 15,
      "outputs": [
        {
          "output_type": "execute_result",
          "data": {
            "text/plain": [
              "b    1\n",
              "c    3\n",
              "d    6\n",
              "dtype: int64"
            ]
          },
          "metadata": {},
          "execution_count": 15
        }
      ]
    },
    {
      "cell_type": "code",
      "source": [
        "obj2*2"
      ],
      "metadata": {
        "colab": {
          "base_uri": "https://localhost:8080/"
        },
        "id": "HlCwceb7LGvH",
        "outputId": "7522a521-fe3e-4c3b-f923-5e7544272c76"
      },
      "execution_count": 16,
      "outputs": [
        {
          "output_type": "execute_result",
          "data": {
            "text/plain": [
              "a    14\n",
              "b     2\n",
              "c     6\n",
              "d    12\n",
              "e    16\n",
              "dtype: int64"
            ]
          },
          "metadata": {},
          "execution_count": 16
        }
      ]
    },
    {
      "cell_type": "code",
      "source": [
        "obj2*3"
      ],
      "metadata": {
        "colab": {
          "base_uri": "https://localhost:8080/"
        },
        "id": "xxaAwPqjLJHB",
        "outputId": "81f2b98e-4f57-4fb6-a4a8-a9915187e6ab"
      },
      "execution_count": 17,
      "outputs": [
        {
          "output_type": "execute_result",
          "data": {
            "text/plain": [
              "a    21\n",
              "b     3\n",
              "c     9\n",
              "d    18\n",
              "e    24\n",
              "dtype: int64"
            ]
          },
          "metadata": {},
          "execution_count": 17
        }
      ]
    },
    {
      "cell_type": "code",
      "source": [
        "np.exp(obj2)"
      ],
      "metadata": {
        "colab": {
          "base_uri": "https://localhost:8080/"
        },
        "id": "nhiqQDOFLMgW",
        "outputId": "a1662814-fb56-4ac7-aed6-5eb618011c8c"
      },
      "execution_count": 18,
      "outputs": [
        {
          "output_type": "execute_result",
          "data": {
            "text/plain": [
              "a    1096.633158\n",
              "b       2.718282\n",
              "c      20.085537\n",
              "d     403.428793\n",
              "e    2980.957987\n",
              "dtype: float64"
            ]
          },
          "metadata": {},
          "execution_count": 18
        }
      ]
    },
    {
      "cell_type": "code",
      "source": [
        "cars_dict= Series ({\"Malibu\":45000, \"Damas\":7000, \"Nexia\": 10000, \"Honda\": 35000, \"BMW\": 75000, \"Mercedes\": 50000})\n",
        "type (cars_dict)"
      ],
      "metadata": {
        "colab": {
          "base_uri": "https://localhost:8080/"
        },
        "id": "jSQ3nbiqLRbh",
        "outputId": "eab2f42d-0766-473c-f6d8-48c4d59e9e24"
      },
      "execution_count": 22,
      "outputs": [
        {
          "output_type": "execute_result",
          "data": {
            "text/plain": [
              "pandas.core.series.Series"
            ]
          },
          "metadata": {},
          "execution_count": 22
        }
      ]
    },
    {
      "cell_type": "code",
      "source": [
        "cars1= Series (cars_dict)\n",
        "cars1"
      ],
      "metadata": {
        "colab": {
          "base_uri": "https://localhost:8080/"
        },
        "id": "aMEmJi89N5x7",
        "outputId": "5c816cc2-144b-431c-c712-f509ca3fc313"
      },
      "execution_count": 23,
      "outputs": [
        {
          "output_type": "execute_result",
          "data": {
            "text/plain": [
              "Malibu      45000\n",
              "Damas        7000\n",
              "Nexia       10000\n",
              "Honda       35000\n",
              "BMW         75000\n",
              "Mercedes    50000\n",
              "dtype: int64"
            ]
          },
          "metadata": {},
          "execution_count": 23
        }
      ]
    },
    {
      "cell_type": "code",
      "source": [
        "type (cars1)"
      ],
      "metadata": {
        "colab": {
          "base_uri": "https://localhost:8080/"
        },
        "id": "cifbjXwzOjcL",
        "outputId": "943d4405-f252-4cfc-b9c8-97129b87b954"
      },
      "execution_count": 24,
      "outputs": [
        {
          "output_type": "execute_result",
          "data": {
            "text/plain": [
              "pandas.core.series.Series"
            ]
          },
          "metadata": {},
          "execution_count": 24
        }
      ]
    },
    {
      "cell_type": "code",
      "source": [
        "#yoki oson usulda yaratsa ham bo'ladi\n",
        "cars1= Series ({\"Malibu\":45000, \"Damas\":7000, \"Nexia\": 10000, \"Honda\": 35000, \"BMW\": 75000, \"Mercedes\": 50000})\n",
        "cars1"
      ],
      "metadata": {
        "colab": {
          "base_uri": "https://localhost:8080/"
        },
        "id": "OLfjtBupOnYa",
        "outputId": "3ad77343-25d2-42ef-f791-0d78a5a07862"
      },
      "execution_count": 26,
      "outputs": [
        {
          "output_type": "execute_result",
          "data": {
            "text/plain": [
              "Malibu      45000\n",
              "Damas        7000\n",
              "Nexia       10000\n",
              "Honda       35000\n",
              "BMW         75000\n",
              "Mercedes    50000\n",
              "dtype: int64"
            ]
          },
          "metadata": {},
          "execution_count": 26
        }
      ]
    },
    {
      "cell_type": "code",
      "source": [
        "\"Malibu\" in cars1"
      ],
      "metadata": {
        "colab": {
          "base_uri": "https://localhost:8080/"
        },
        "id": "5rF29qipO04l",
        "outputId": "d87be584-5f15-46f8-efca-66b08ef2271c"
      },
      "execution_count": 27,
      "outputs": [
        {
          "output_type": "execute_result",
          "data": {
            "text/plain": [
              "True"
            ]
          },
          "metadata": {},
          "execution_count": 27
        }
      ]
    },
    {
      "cell_type": "code",
      "source": [
        "\"Mazda\"in cars1"
      ],
      "metadata": {
        "colab": {
          "base_uri": "https://localhost:8080/"
        },
        "id": "MtMLJwm5O7Uq",
        "outputId": "4d910be2-97a7-4476-ffb3-b3f3b318a494"
      },
      "execution_count": 28,
      "outputs": [
        {
          "output_type": "execute_result",
          "data": {
            "text/plain": [
              "False"
            ]
          },
          "metadata": {},
          "execution_count": 28
        }
      ]
    },
    {
      "cell_type": "code",
      "source": [
        "cars1 [\"BMW\"]"
      ],
      "metadata": {
        "colab": {
          "base_uri": "https://localhost:8080/"
        },
        "id": "JA5KtlUMO9tb",
        "outputId": "66d2a9de-5c2d-4bc2-bf22-fc0822906061"
      },
      "execution_count": 29,
      "outputs": [
        {
          "output_type": "execute_result",
          "data": {
            "text/plain": [
              "75000"
            ]
          },
          "metadata": {},
          "execution_count": 29
        }
      ]
    },
    {
      "cell_type": "code",
      "source": [
        "models= [\"Honda\", \"BMW\", \"Jaguar\", \"Mazda\", \"Malibu\", \"Damas\", \"Nexia\", \"Mercedes\"]\n"
      ],
      "metadata": {
        "id": "WglCRTexPC-E"
      },
      "execution_count": 30,
      "outputs": []
    },
    {
      "cell_type": "code",
      "source": [
        "cars2= Series (cars_dict, index=models)\n",
        "cars2"
      ],
      "metadata": {
        "colab": {
          "base_uri": "https://localhost:8080/"
        },
        "id": "LiZLI9UCPVKh",
        "outputId": "545f03c0-1280-4a59-b7db-f376bc64424c"
      },
      "execution_count": 31,
      "outputs": [
        {
          "output_type": "execute_result",
          "data": {
            "text/plain": [
              "Honda       35000.0\n",
              "BMW         75000.0\n",
              "Jaguar          NaN\n",
              "Mazda           NaN\n",
              "Malibu      45000.0\n",
              "Damas        7000.0\n",
              "Nexia       10000.0\n",
              "Mercedes    50000.0\n",
              "dtype: float64"
            ]
          },
          "metadata": {},
          "execution_count": 31
        }
      ]
    },
    {
      "cell_type": "code",
      "source": [
        "cars2.isnull() # agar qiymati bo'lmasa True qaytaradi"
      ],
      "metadata": {
        "colab": {
          "base_uri": "https://localhost:8080/"
        },
        "id": "jRCbQ7ZXPe-c",
        "outputId": "2e3329f4-15a0-426f-ad69-28c0cf412a1f"
      },
      "execution_count": 32,
      "outputs": [
        {
          "output_type": "execute_result",
          "data": {
            "text/plain": [
              "Honda       False\n",
              "BMW         False\n",
              "Jaguar       True\n",
              "Mazda        True\n",
              "Malibu      False\n",
              "Damas       False\n",
              "Nexia       False\n",
              "Mercedes    False\n",
              "dtype: bool"
            ]
          },
          "metadata": {},
          "execution_count": 32
        }
      ]
    },
    {
      "cell_type": "code",
      "source": [
        "cars2.notnull() # aksincha qiymat borlarga true qaytaradi"
      ],
      "metadata": {
        "colab": {
          "base_uri": "https://localhost:8080/"
        },
        "id": "Ufz--ILvTIyw",
        "outputId": "bd78ecc9-9f07-4f61-e051-40e142d5e718"
      },
      "execution_count": 33,
      "outputs": [
        {
          "output_type": "execute_result",
          "data": {
            "text/plain": [
              "Honda        True\n",
              "BMW          True\n",
              "Jaguar      False\n",
              "Mazda       False\n",
              "Malibu       True\n",
              "Damas        True\n",
              "Nexia        True\n",
              "Mercedes     True\n",
              "dtype: bool"
            ]
          },
          "metadata": {},
          "execution_count": 33
        }
      ]
    },
    {
      "cell_type": "code",
      "source": [
        "cars1+cars2"
      ],
      "metadata": {
        "colab": {
          "base_uri": "https://localhost:8080/"
        },
        "id": "6uyvC9w6TM7E",
        "outputId": "7f448190-adfa-4ad7-845b-0db82d991bae"
      },
      "execution_count": 34,
      "outputs": [
        {
          "output_type": "execute_result",
          "data": {
            "text/plain": [
              "BMW         150000.0\n",
              "Damas        14000.0\n",
              "Honda        70000.0\n",
              "Jaguar           NaN\n",
              "Malibu       90000.0\n",
              "Mazda            NaN\n",
              "Mercedes    100000.0\n",
              "Nexia        20000.0\n",
              "dtype: float64"
            ]
          },
          "metadata": {},
          "execution_count": 34
        }
      ]
    },
    {
      "cell_type": "code",
      "source": [
        "cars2.name= \"Avtosalon\"\n",
        "cars2.index.name= \"Modellar\"\n",
        "cars2"
      ],
      "metadata": {
        "colab": {
          "base_uri": "https://localhost:8080/"
        },
        "id": "tzpCwi1UTaOK",
        "outputId": "43145272-2a9c-40ef-f253-d75deca93bac"
      },
      "execution_count": 37,
      "outputs": [
        {
          "output_type": "execute_result",
          "data": {
            "text/plain": [
              "Modellar\n",
              "Honda       35000.0\n",
              "BMW         75000.0\n",
              "Jaguar          NaN\n",
              "Mazda           NaN\n",
              "Malibu      45000.0\n",
              "Damas        7000.0\n",
              "Nexia       10000.0\n",
              "Mercedes    50000.0\n",
              "Name: Avtosalon, dtype: float64"
            ]
          },
          "metadata": {},
          "execution_count": 37
        }
      ]
    },
    {
      "cell_type": "code",
      "source": [
        "cars2.index"
      ],
      "metadata": {
        "colab": {
          "base_uri": "https://localhost:8080/"
        },
        "id": "an1qmsvMTmYM",
        "outputId": "b7e4856d-d454-475b-91e1-91a8a3fb954d"
      },
      "execution_count": 38,
      "outputs": [
        {
          "output_type": "execute_result",
          "data": {
            "text/plain": [
              "Index(['Honda', 'BMW', 'Jaguar', 'Mazda', 'Malibu', 'Damas', 'Nexia',\n",
              "       'Mercedes'],\n",
              "      dtype='object', name='Modellar')"
            ]
          },
          "metadata": {},
          "execution_count": 38
        }
      ]
    },
    {
      "cell_type": "code",
      "source": [
        "cars2.values"
      ],
      "metadata": {
        "colab": {
          "base_uri": "https://localhost:8080/"
        },
        "id": "EG1rgSmbTw1J",
        "outputId": "c6dd7451-5b4e-4608-87f2-4f65c87cd2de"
      },
      "execution_count": 39,
      "outputs": [
        {
          "output_type": "execute_result",
          "data": {
            "text/plain": [
              "array([35000., 75000.,    nan,    nan, 45000.,  7000., 10000., 50000.])"
            ]
          },
          "metadata": {},
          "execution_count": 39
        }
      ]
    },
    {
      "cell_type": "code",
      "source": [
        "cars2.hasnans"
      ],
      "metadata": {
        "colab": {
          "base_uri": "https://localhost:8080/"
        },
        "id": "Pvw2Ee3ITzfD",
        "outputId": "fa955797-56e3-4791-81f1-c5deef5052c4"
      },
      "execution_count": 41,
      "outputs": [
        {
          "output_type": "execute_result",
          "data": {
            "text/plain": [
              "True"
            ]
          },
          "metadata": {},
          "execution_count": 41
        }
      ]
    },
    {
      "cell_type": "code",
      "source": [
        "cars2.dtype"
      ],
      "metadata": {
        "colab": {
          "base_uri": "https://localhost:8080/"
        },
        "id": "BYJfyzbhT2lv",
        "outputId": "3d54b17b-b3ae-4665-c25a-8ea1a36eb60a"
      },
      "execution_count": 42,
      "outputs": [
        {
          "output_type": "execute_result",
          "data": {
            "text/plain": [
              "dtype('float64')"
            ]
          },
          "metadata": {},
          "execution_count": 42
        }
      ]
    },
    {
      "cell_type": "code",
      "source": [
        "cars2.is_unique"
      ],
      "metadata": {
        "colab": {
          "base_uri": "https://localhost:8080/"
        },
        "id": "sSgx_Ox_UD-I",
        "outputId": "cfebb620-156a-4456-dea7-040e44cc0dd5"
      },
      "execution_count": 43,
      "outputs": [
        {
          "output_type": "execute_result",
          "data": {
            "text/plain": [
              "False"
            ]
          },
          "metadata": {},
          "execution_count": 43
        }
      ]
    },
    {
      "cell_type": "code",
      "source": [
        "cars2.shape"
      ],
      "metadata": {
        "colab": {
          "base_uri": "https://localhost:8080/"
        },
        "id": "1j-d1ZCiUIDs",
        "outputId": "12424f4f-20e5-4021-b3df-f3254bfe6f54"
      },
      "execution_count": 44,
      "outputs": [
        {
          "output_type": "execute_result",
          "data": {
            "text/plain": [
              "(8,)"
            ]
          },
          "metadata": {},
          "execution_count": 44
        }
      ]
    },
    {
      "cell_type": "code",
      "source": [
        "cars2.size"
      ],
      "metadata": {
        "colab": {
          "base_uri": "https://localhost:8080/"
        },
        "id": "2w7w4VSvUKaX",
        "outputId": "0859615f-3220-4442-e1a2-bfc0df06262e"
      },
      "execution_count": 45,
      "outputs": [
        {
          "output_type": "execute_result",
          "data": {
            "text/plain": [
              "8"
            ]
          },
          "metadata": {},
          "execution_count": 45
        }
      ]
    },
    {
      "cell_type": "code",
      "source": [
        "cars2.iloc"
      ],
      "metadata": {
        "colab": {
          "base_uri": "https://localhost:8080/"
        },
        "id": "xOSqivJyUL8g",
        "outputId": "4989eff4-641f-48c7-cfc0-2ce35f37b229"
      },
      "execution_count": 46,
      "outputs": [
        {
          "output_type": "execute_result",
          "data": {
            "text/plain": [
              "<pandas.core.indexing._iLocIndexer at 0x7bb2b699ffb0>"
            ]
          },
          "metadata": {},
          "execution_count": 46
        }
      ]
    },
    {
      "cell_type": "code",
      "source": [
        "cars2.iloc[2]"
      ],
      "metadata": {
        "colab": {
          "base_uri": "https://localhost:8080/"
        },
        "id": "iauPfidXUOjm",
        "outputId": "89edc03b-071c-4a23-8c2d-dc86639a650d"
      },
      "execution_count": 47,
      "outputs": [
        {
          "output_type": "execute_result",
          "data": {
            "text/plain": [
              "nan"
            ]
          },
          "metadata": {},
          "execution_count": 47
        }
      ]
    },
    {
      "cell_type": "code",
      "source": [
        "cars2.iloc[1]"
      ],
      "metadata": {
        "colab": {
          "base_uri": "https://localhost:8080/"
        },
        "id": "Yy8Eyx_UUSgJ",
        "outputId": "1f30e575-195a-4604-9fbf-3773e43a3cb1"
      },
      "execution_count": 48,
      "outputs": [
        {
          "output_type": "execute_result",
          "data": {
            "text/plain": [
              "75000.0"
            ]
          },
          "metadata": {},
          "execution_count": 48
        }
      ]
    },
    {
      "cell_type": "code",
      "source": [
        "cars2.iloc[-2]"
      ],
      "metadata": {
        "colab": {
          "base_uri": "https://localhost:8080/"
        },
        "id": "Jlt4hbXAUXA6",
        "outputId": "5d8e5395-2b5f-40ab-aecb-4bbc2f610ace"
      },
      "execution_count": 49,
      "outputs": [
        {
          "output_type": "execute_result",
          "data": {
            "text/plain": [
              "10000.0"
            ]
          },
          "metadata": {},
          "execution_count": 49
        }
      ]
    },
    {
      "cell_type": "code",
      "source": [
        "cars2 [\"Honda\"]"
      ],
      "metadata": {
        "colab": {
          "base_uri": "https://localhost:8080/"
        },
        "id": "NNtn4mJ0UaVl",
        "outputId": "0f75980f-031e-4ec7-d565-edbcbdb6128f"
      },
      "execution_count": 50,
      "outputs": [
        {
          "output_type": "execute_result",
          "data": {
            "text/plain": [
              "35000.0"
            ]
          },
          "metadata": {},
          "execution_count": 50
        }
      ]
    },
    {
      "cell_type": "code",
      "source": [
        "cars2.loc[\"BMW\"]"
      ],
      "metadata": {
        "colab": {
          "base_uri": "https://localhost:8080/"
        },
        "id": "xRYkNZA1UiaD",
        "outputId": "e6edc29e-b1d1-4942-e284-30ee1612400a"
      },
      "execution_count": 51,
      "outputs": [
        {
          "output_type": "execute_result",
          "data": {
            "text/plain": [
              "75000.0"
            ]
          },
          "metadata": {},
          "execution_count": 51
        }
      ]
    },
    {
      "cell_type": "code",
      "source": [
        "cars2.loc[\"Nexia\"]"
      ],
      "metadata": {
        "colab": {
          "base_uri": "https://localhost:8080/"
        },
        "id": "bR3OjSH5UmQy",
        "outputId": "c7bf6acb-27ab-459e-ca56-742f2f6b1fee"
      },
      "execution_count": 53,
      "outputs": [
        {
          "output_type": "execute_result",
          "data": {
            "text/plain": [
              "10000.0"
            ]
          },
          "metadata": {},
          "execution_count": 53
        }
      ]
    },
    {
      "cell_type": "code",
      "source": [
        "cars2.max"
      ],
      "metadata": {
        "colab": {
          "base_uri": "https://localhost:8080/"
        },
        "id": "aPXRxWxoUo8z",
        "outputId": "b1a1d99a-5ef0-4372-afa6-abaaa2fb7340"
      },
      "execution_count": 54,
      "outputs": [
        {
          "output_type": "execute_result",
          "data": {
            "text/plain": [
              "<bound method NDFrame._add_numeric_operations.<locals>.max of Modellar\n",
              "Honda       35000.0\n",
              "BMW         75000.0\n",
              "Jaguar          NaN\n",
              "Mazda           NaN\n",
              "Malibu      45000.0\n",
              "Damas        7000.0\n",
              "Nexia       10000.0\n",
              "Mercedes    50000.0\n",
              "Name: Avtosalon, dtype: float64>"
            ]
          },
          "metadata": {},
          "execution_count": 54
        }
      ]
    },
    {
      "cell_type": "code",
      "source": [
        "cars1.min"
      ],
      "metadata": {
        "colab": {
          "base_uri": "https://localhost:8080/"
        },
        "id": "xatiM0Q2UuVh",
        "outputId": "8531f286-9d7d-4745-d6a9-08bec449aab9"
      },
      "execution_count": 55,
      "outputs": [
        {
          "output_type": "execute_result",
          "data": {
            "text/plain": [
              "<bound method NDFrame._add_numeric_operations.<locals>.min of Malibu      45000\n",
              "Damas        7000\n",
              "Nexia       10000\n",
              "Honda       35000\n",
              "BMW         75000\n",
              "Mercedes    50000\n",
              "dtype: int64>"
            ]
          },
          "metadata": {},
          "execution_count": 55
        }
      ]
    },
    {
      "cell_type": "code",
      "source": [
        "cars2.min"
      ],
      "metadata": {
        "colab": {
          "base_uri": "https://localhost:8080/"
        },
        "id": "iviDHO-dUzBl",
        "outputId": "6b5b68ee-ba40-45e0-b573-ab0ebc8e9938"
      },
      "execution_count": 56,
      "outputs": [
        {
          "output_type": "execute_result",
          "data": {
            "text/plain": [
              "<bound method NDFrame._add_numeric_operations.<locals>.min of Modellar\n",
              "Honda       35000.0\n",
              "BMW         75000.0\n",
              "Jaguar          NaN\n",
              "Mazda           NaN\n",
              "Malibu      45000.0\n",
              "Damas        7000.0\n",
              "Nexia       10000.0\n",
              "Mercedes    50000.0\n",
              "Name: Avtosalon, dtype: float64>"
            ]
          },
          "metadata": {},
          "execution_count": 56
        }
      ]
    },
    {
      "cell_type": "code",
      "source": [
        "cars2.mean"
      ],
      "metadata": {
        "colab": {
          "base_uri": "https://localhost:8080/"
        },
        "id": "mtzs8pjiU4fU",
        "outputId": "0c0345af-4082-416d-e62c-10c93dc14115"
      },
      "execution_count": 57,
      "outputs": [
        {
          "output_type": "execute_result",
          "data": {
            "text/plain": [
              "<bound method NDFrame._add_numeric_operations.<locals>.mean of Modellar\n",
              "Honda       35000.0\n",
              "BMW         75000.0\n",
              "Jaguar          NaN\n",
              "Mazda           NaN\n",
              "Malibu      45000.0\n",
              "Damas        7000.0\n",
              "Nexia       10000.0\n",
              "Mercedes    50000.0\n",
              "Name: Avtosalon, dtype: float64>"
            ]
          },
          "metadata": {},
          "execution_count": 57
        }
      ]
    },
    {
      "cell_type": "code",
      "source": [
        "cars1.max"
      ],
      "metadata": {
        "colab": {
          "base_uri": "https://localhost:8080/"
        },
        "id": "RdHpr3TDU7tJ",
        "outputId": "e2fd3904-4939-4f04-d13f-f125a5ccb77d"
      },
      "execution_count": 58,
      "outputs": [
        {
          "output_type": "execute_result",
          "data": {
            "text/plain": [
              "<bound method NDFrame._add_numeric_operations.<locals>.max of Malibu      45000\n",
              "Damas        7000\n",
              "Nexia       10000\n",
              "Honda       35000\n",
              "BMW         75000\n",
              "Mercedes    50000\n",
              "dtype: int64>"
            ]
          },
          "metadata": {},
          "execution_count": 58
        }
      ]
    },
    {
      "cell_type": "code",
      "source": [
        "cars1.mean"
      ],
      "metadata": {
        "colab": {
          "base_uri": "https://localhost:8080/"
        },
        "id": "f35F-d6tU9g-",
        "outputId": "24c78134-c069-4de6-bcdf-8770557a33fa"
      },
      "execution_count": 59,
      "outputs": [
        {
          "output_type": "execute_result",
          "data": {
            "text/plain": [
              "<bound method NDFrame._add_numeric_operations.<locals>.mean of Malibu      45000\n",
              "Damas        7000\n",
              "Nexia       10000\n",
              "Honda       35000\n",
              "BMW         75000\n",
              "Mercedes    50000\n",
              "dtype: int64>"
            ]
          },
          "metadata": {},
          "execution_count": 59
        }
      ]
    },
    {
      "cell_type": "code",
      "source": [],
      "metadata": {
        "id": "VPyy0AHXU_w1"
      },
      "execution_count": null,
      "outputs": []
    }
  ]
}
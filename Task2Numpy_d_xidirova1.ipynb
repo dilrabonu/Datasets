{
  "nbformat": 4,
  "nbformat_minor": 0,
  "metadata": {
    "colab": {
      "provenance": [],
      "authorship_tag": "ABX9TyMbJTv3uG4XcKNMIihy7Zbk",
      "include_colab_link": true
    },
    "kernelspec": {
      "name": "python3",
      "display_name": "Python 3"
    },
    "language_info": {
      "name": "python"
    }
  },
  "cells": [
    {
      "cell_type": "markdown",
      "metadata": {
        "id": "view-in-github",
        "colab_type": "text"
      },
      "source": [
        "<a href=\"https://colab.research.google.com/github/dilrabonu/python-step1/blob/main/Task2Numpy_d_xidirova1.ipynb\" target=\"_parent\"><img src=\"https://colab.research.google.com/assets/colab-badge.svg\" alt=\"Open In Colab\"/></a>"
      ]
    },
    {
      "cell_type": "code",
      "execution_count": 1,
      "metadata": {
        "id": "MmSak74t9b5u"
      },
      "outputs": [],
      "source": [
        "import numpy as np"
      ]
    },
    {
      "cell_type": "code",
      "source": [
        "arr= np.arange(9).reshape(3, 3) # task 1\n",
        "arr"
      ],
      "metadata": {
        "colab": {
          "base_uri": "https://localhost:8080/"
        },
        "id": "HvGVvy0o9sif",
        "outputId": "0bb0577e-b635-4ed3-f3c2-eb709bfff39a"
      },
      "execution_count": 2,
      "outputs": [
        {
          "output_type": "execute_result",
          "data": {
            "text/plain": [
              "array([[0, 1, 2],\n",
              "       [3, 4, 5],\n",
              "       [6, 7, 8]])"
            ]
          },
          "metadata": {},
          "execution_count": 2
        }
      ]
    },
    {
      "cell_type": "code",
      "source": [
        "arr\n",
        "arr[2, 0:2] #task2"
      ],
      "metadata": {
        "colab": {
          "base_uri": "https://localhost:8080/"
        },
        "id": "hpB5QHHK95iQ",
        "outputId": "04389d91-0f41-47f4-9998-2a4c7c6b918b"
      },
      "execution_count": 4,
      "outputs": [
        {
          "output_type": "execute_result",
          "data": {
            "text/plain": [
              "array([6, 7])"
            ]
          },
          "metadata": {},
          "execution_count": 4
        }
      ]
    },
    {
      "cell_type": "code",
      "source": [
        "arr2d= np.array ([[[ 0,  1,  2], # task 3\n",
        "                [ 3,  4,  5],\n",
        "                [ 6,  7,  8]],\n",
        "\n",
        "               [[ 9, 10, 11],\n",
        "                [12, 13, 14],\n",
        "                [15, 16, 17]],\n",
        "\n",
        "               [[18, 19, 20],\n",
        "                [21, 22, 23],\n",
        "                [24, 25, 26]]])\n",
        "arr2d"
      ],
      "metadata": {
        "colab": {
          "base_uri": "https://localhost:8080/"
        },
        "id": "s0-H81aL-Pjg",
        "outputId": "16bf23d0-c283-4035-f140-8e1bf4e9f2fb"
      },
      "execution_count": 7,
      "outputs": [
        {
          "output_type": "execute_result",
          "data": {
            "text/plain": [
              "array([[[ 0,  1,  2],\n",
              "        [ 3,  4,  5],\n",
              "        [ 6,  7,  8]],\n",
              "\n",
              "       [[ 9, 10, 11],\n",
              "        [12, 13, 14],\n",
              "        [15, 16, 17]],\n",
              "\n",
              "       [[18, 19, 20],\n",
              "        [21, 22, 23],\n",
              "        [24, 25, 26]]])"
            ]
          },
          "metadata": {},
          "execution_count": 7
        }
      ]
    },
    {
      "cell_type": "code",
      "source": [
        "arr2d [1][1, 0:2]\n"
      ],
      "metadata": {
        "colab": {
          "base_uri": "https://localhost:8080/"
        },
        "id": "vIXq71ly-f36",
        "outputId": "288ae61c-0794-4046-b1be-8253071f0d4f"
      },
      "execution_count": 30,
      "outputs": [
        {
          "output_type": "execute_result",
          "data": {
            "text/plain": [
              "array([12, 13])"
            ]
          },
          "metadata": {},
          "execution_count": 30
        }
      ]
    },
    {
      "cell_type": "code",
      "source": [
        "arr2d[1] [2, 0:2]"
      ],
      "metadata": {
        "colab": {
          "base_uri": "https://localhost:8080/"
        },
        "id": "2C3ME_JFBZ5F",
        "outputId": "0c2c49fb-d19f-4e29-d066-cc012cdd6eef"
      },
      "execution_count": 31,
      "outputs": [
        {
          "output_type": "execute_result",
          "data": {
            "text/plain": [
              "array([15, 16])"
            ]
          },
          "metadata": {},
          "execution_count": 31
        }
      ]
    },
    {
      "cell_type": "code",
      "source": [
        "names=np.array(['Hasan', 'Husan', 'Javohir', 'Elyor', 'Hasan', 'Javohir', 'Elyor'])\n",
        "names"
      ],
      "metadata": {
        "colab": {
          "base_uri": "https://localhost:8080/"
        },
        "id": "Z2kv4XF9BhqL",
        "outputId": "b415fa99-6dc9-4b9a-a280-a9f8b579f555"
      },
      "execution_count": 39,
      "outputs": [
        {
          "output_type": "execute_result",
          "data": {
            "text/plain": [
              "array(['Hasan', 'Husan', 'Javohir', 'Elyor', 'Hasan', 'Javohir', 'Elyor'],\n",
              "      dtype='<U7')"
            ]
          },
          "metadata": {},
          "execution_count": 39
        }
      ]
    },
    {
      "cell_type": "code",
      "source": [
        "data=np.array([[5, 6, 1, 1],\n",
        "   [9, 1, 1, 1],\n",
        "   [7, 7, 4, 2],\n",
        "   [1, 5, 1, 9],\n",
        "   [9, 9, 4, 5],\n",
        "   [7, 5, 9, 6],\n",
        "   [5, 3, 7, 4]])\n",
        "data"
      ],
      "metadata": {
        "colab": {
          "base_uri": "https://localhost:8080/"
        },
        "id": "JHkWrYiPBqoA",
        "outputId": "72f09203-3a9b-41c1-a86d-1624e1ed188f"
      },
      "execution_count": 45,
      "outputs": [
        {
          "output_type": "execute_result",
          "data": {
            "text/plain": [
              "array([[5, 6, 1, 1],\n",
              "       [9, 1, 1, 1],\n",
              "       [7, 7, 4, 2],\n",
              "       [1, 5, 1, 9],\n",
              "       [9, 9, 4, 5],\n",
              "       [7, 5, 9, 6],\n",
              "       [5, 3, 7, 4]])"
            ]
          },
          "metadata": {},
          "execution_count": 45
        }
      ]
    },
    {
      "cell_type": "code",
      "source": [
        "data[names== \"Javohir\"]"
      ],
      "metadata": {
        "colab": {
          "base_uri": "https://localhost:8080/"
        },
        "id": "NPzo3o2zBxqK",
        "outputId": "f1643ba3-50b6-429a-8be0-f2fc0ddb167e"
      },
      "execution_count": 46,
      "outputs": [
        {
          "output_type": "execute_result",
          "data": {
            "text/plain": [
              "array([[7, 7, 4, 2],\n",
              "       [7, 5, 9, 6]])"
            ]
          },
          "metadata": {},
          "execution_count": 46
        }
      ]
    },
    {
      "cell_type": "code",
      "source": [
        "data[names== \"Elyor\"]"
      ],
      "metadata": {
        "colab": {
          "base_uri": "https://localhost:8080/"
        },
        "id": "IjImBRHZCF_n",
        "outputId": "d26f11a8-0448-436f-d8ff-54cd9dba9323"
      },
      "execution_count": 47,
      "outputs": [
        {
          "output_type": "execute_result",
          "data": {
            "text/plain": [
              "array([[1, 5, 1, 9],\n",
              "       [5, 3, 7, 4]])"
            ]
          },
          "metadata": {},
          "execution_count": 47
        }
      ]
    },
    {
      "cell_type": "code",
      "source": [
        "mask = (names==\"Javohir\")| (names==\"Elyor\")\n",
        "data [mask]"
      ],
      "metadata": {
        "colab": {
          "base_uri": "https://localhost:8080/"
        },
        "id": "N3lz1tN4DFBO",
        "outputId": "4ab4cd21-eb92-4f37-d0f0-7d4a20e05bb6"
      },
      "execution_count": 48,
      "outputs": [
        {
          "output_type": "execute_result",
          "data": {
            "text/plain": [
              "array([[7, 7, 4, 2],\n",
              "       [1, 5, 1, 9],\n",
              "       [7, 5, 9, 6],\n",
              "       [5, 3, 7, 4]])"
            ]
          },
          "metadata": {},
          "execution_count": 48
        }
      ]
    },
    {
      "cell_type": "code",
      "source": [],
      "metadata": {
        "id": "E_266EU4DQ7i"
      },
      "execution_count": null,
      "outputs": []
    }
  ]
}
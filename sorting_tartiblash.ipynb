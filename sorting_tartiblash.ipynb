{
  "nbformat": 4,
  "nbformat_minor": 0,
  "metadata": {
    "colab": {
      "provenance": [],
      "authorship_tag": "ABX9TyOocB3yqDdt1Y8WFiU35EEU",
      "include_colab_link": true
    },
    "kernelspec": {
      "name": "python3",
      "display_name": "Python 3"
    },
    "language_info": {
      "name": "python"
    }
  },
  "cells": [
    {
      "cell_type": "markdown",
      "metadata": {
        "id": "view-in-github",
        "colab_type": "text"
      },
      "source": [
        "<a href=\"https://colab.research.google.com/github/dilrabonu/python-step1/blob/main/sorting_tartiblash.ipynb\" target=\"_parent\"><img src=\"https://colab.research.google.com/assets/colab-badge.svg\" alt=\"Open In Colab\"/></a>"
      ]
    },
    {
      "cell_type": "code",
      "execution_count": 1,
      "metadata": {
        "id": "t-Y5MemXb1In"
      },
      "outputs": [],
      "source": [
        "import numpy as np"
      ]
    },
    {
      "cell_type": "code",
      "source": [
        "#data\n",
        "arr=np.random.rand(4)\n",
        "arr"
      ],
      "metadata": {
        "colab": {
          "base_uri": "https://localhost:8080/"
        },
        "id": "gqPJTKRVb6W1",
        "outputId": "30cde8e0-abcd-48e1-9bf4-3d4d75887b76"
      },
      "execution_count": 2,
      "outputs": [
        {
          "output_type": "execute_result",
          "data": {
            "text/plain": [
              "array([0.17469754, 0.80127951, 0.77075569, 0.0811155 ])"
            ]
          },
          "metadata": {},
          "execution_count": 2
        }
      ]
    },
    {
      "cell_type": "code",
      "source": [
        "#1usul\n",
        "sorted_arr= np.sort(arr) # arrning tartiblangan versiyasi\n",
        "sorted_arr"
      ],
      "metadata": {
        "colab": {
          "base_uri": "https://localhost:8080/"
        },
        "id": "g0oaMv9dce3K",
        "outputId": "fa7696ed-c179-4e51-9092-541fc497d0e2"
      },
      "execution_count": 3,
      "outputs": [
        {
          "output_type": "execute_result",
          "data": {
            "text/plain": [
              "array([0.0811155 , 0.17469754, 0.77075569, 0.80127951])"
            ]
          },
          "metadata": {},
          "execution_count": 3
        }
      ]
    },
    {
      "cell_type": "code",
      "source": [
        "#2 usul\n",
        "arr.sort() # arrning tartiblangan ko'rinishi\n",
        "arr"
      ],
      "metadata": {
        "colab": {
          "base_uri": "https://localhost:8080/"
        },
        "id": "2CVeM_Hbc6RA",
        "outputId": "448dc1aa-963c-4f7a-cded-592a435e2cf2"
      },
      "execution_count": 4,
      "outputs": [
        {
          "output_type": "execute_result",
          "data": {
            "text/plain": [
              "array([0.0811155 , 0.17469754, 0.77075569, 0.80127951])"
            ]
          },
          "metadata": {},
          "execution_count": 4
        }
      ]
    },
    {
      "cell_type": "code",
      "source": [
        "arr1=np.random.rand(6)\n",
        "arr1"
      ],
      "metadata": {
        "colab": {
          "base_uri": "https://localhost:8080/"
        },
        "id": "AeMAqlv8dCzv",
        "outputId": "bbf2cdaf-e1d8-4b99-bf69-3e3ddc7be19c"
      },
      "execution_count": 5,
      "outputs": [
        {
          "output_type": "execute_result",
          "data": {
            "text/plain": [
              "array([0.33235777, 0.25327908, 0.20013938, 0.68819908, 0.50456054,\n",
              "       0.17698824])"
            ]
          },
          "metadata": {},
          "execution_count": 5
        }
      ]
    },
    {
      "cell_type": "code",
      "source": [
        "sorted_arr1=np.sort(arr1)\n",
        "sorted_arr1"
      ],
      "metadata": {
        "colab": {
          "base_uri": "https://localhost:8080/"
        },
        "id": "fAppDU3GdNoj",
        "outputId": "d9b312d8-3b13-4895-e10d-367dd1fd9643"
      },
      "execution_count": 6,
      "outputs": [
        {
          "output_type": "execute_result",
          "data": {
            "text/plain": [
              "array([0.17698824, 0.20013938, 0.25327908, 0.33235777, 0.50456054,\n",
              "       0.68819908])"
            ]
          },
          "metadata": {},
          "execution_count": 6
        }
      ]
    },
    {
      "cell_type": "code",
      "source": [
        "arr1.sort()\n",
        "arr1"
      ],
      "metadata": {
        "colab": {
          "base_uri": "https://localhost:8080/"
        },
        "id": "GZ5Y8lYIdWXG",
        "outputId": "620a8f44-9866-4394-9fbd-4498b3fa28eb"
      },
      "execution_count": 7,
      "outputs": [
        {
          "output_type": "execute_result",
          "data": {
            "text/plain": [
              "array([0.17698824, 0.20013938, 0.25327908, 0.33235777, 0.50456054,\n",
              "       0.68819908])"
            ]
          },
          "metadata": {},
          "execution_count": 7
        }
      ]
    },
    {
      "cell_type": "code",
      "source": [
        "rev_arr = -np.sort(-arr) # teskari tartiblash\n",
        "rev_arr"
      ],
      "metadata": {
        "colab": {
          "base_uri": "https://localhost:8080/"
        },
        "id": "BESe7z7UdbAn",
        "outputId": "bea9c71d-269a-4ec7-ac53-5b1e26eea289"
      },
      "execution_count": 8,
      "outputs": [
        {
          "output_type": "execute_result",
          "data": {
            "text/plain": [
              "array([0.80127951, 0.77075569, 0.17469754, 0.0811155 ])"
            ]
          },
          "metadata": {},
          "execution_count": 8
        }
      ]
    },
    {
      "cell_type": "code",
      "source": [
        "rev_arr1= -np.sort(-arr1)\n",
        "rev_arr1"
      ],
      "metadata": {
        "colab": {
          "base_uri": "https://localhost:8080/"
        },
        "id": "EuAJN98fghbQ",
        "outputId": "cdcc660f-d66e-43c9-d3a0-8da5ea98941b"
      },
      "execution_count": 9,
      "outputs": [
        {
          "output_type": "execute_result",
          "data": {
            "text/plain": [
              "array([0.68819908, 0.50456054, 0.33235777, 0.25327908, 0.20013938,\n",
              "       0.17698824])"
            ]
          },
          "metadata": {},
          "execution_count": 9
        }
      ]
    },
    {
      "cell_type": "code",
      "source": [
        "arr2d= np.random.randn(2, 4)\n",
        "arr2d"
      ],
      "metadata": {
        "colab": {
          "base_uri": "https://localhost:8080/"
        },
        "id": "0QESY-cagqgS",
        "outputId": "280e6156-eebc-4e07-8ef0-43544e6f7750"
      },
      "execution_count": 10,
      "outputs": [
        {
          "output_type": "execute_result",
          "data": {
            "text/plain": [
              "array([[-0.70366114,  1.14422155,  0.22979118,  1.52199107],\n",
              "       [-1.13501219,  0.04108172, -1.10469261,  1.90609971]])"
            ]
          },
          "metadata": {},
          "execution_count": 10
        }
      ]
    },
    {
      "cell_type": "code",
      "source": [
        "row_srt= np.sort(arr2d, axis=0) # ustrun bo'yicha tartiblaymiz\n",
        "row_srt"
      ],
      "metadata": {
        "colab": {
          "base_uri": "https://localhost:8080/"
        },
        "id": "48YyiUyuhsG3",
        "outputId": "846f9d0a-7b92-4a14-a17e-0da16c83bf34"
      },
      "execution_count": 11,
      "outputs": [
        {
          "output_type": "execute_result",
          "data": {
            "text/plain": [
              "array([[-1.13501219,  0.04108172, -1.10469261,  1.52199107],\n",
              "       [-0.70366114,  1.14422155,  0.22979118,  1.90609971]])"
            ]
          },
          "metadata": {},
          "execution_count": 11
        }
      ]
    },
    {
      "cell_type": "code",
      "source": [
        "col_srt= np.sort(arr2d, axis=1) # qator bo'yicha tartiblash\n",
        "col_srt"
      ],
      "metadata": {
        "colab": {
          "base_uri": "https://localhost:8080/"
        },
        "id": "2184DfBuh3h2",
        "outputId": "73f0ff0d-e792-42d5-f5c1-bfc914ed8ec0"
      },
      "execution_count": 12,
      "outputs": [
        {
          "output_type": "execute_result",
          "data": {
            "text/plain": [
              "array([[-0.70366114,  0.22979118,  1.14422155,  1.52199107],\n",
              "       [-1.13501219, -1.10469261,  0.04108172,  1.90609971]])"
            ]
          },
          "metadata": {},
          "execution_count": 12
        }
      ]
    },
    {
      "cell_type": "code",
      "source": [
        "col_srt_rev= -np.sort(-arr2d, axis=1) #teskari tartiblash\n",
        "col_srt_rev"
      ],
      "metadata": {
        "colab": {
          "base_uri": "https://localhost:8080/"
        },
        "id": "UcFucA5hiDDi",
        "outputId": "1fa6674c-9c04-4e88-c18e-047a8b2e405a"
      },
      "execution_count": 14,
      "outputs": [
        {
          "output_type": "execute_result",
          "data": {
            "text/plain": [
              "array([[ 1.52199107,  1.14422155,  0.22979118, -0.70366114],\n",
              "       [ 1.90609971,  0.04108172, -1.10469261, -1.13501219]])"
            ]
          },
          "metadata": {},
          "execution_count": 14
        }
      ]
    },
    {
      "cell_type": "code",
      "source": [],
      "metadata": {
        "id": "CQcBmtaWiPdZ"
      },
      "execution_count": null,
      "outputs": []
    }
  ]
}
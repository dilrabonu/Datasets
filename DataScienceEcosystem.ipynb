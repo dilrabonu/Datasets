{
  "nbformat": 4,
  "nbformat_minor": 0,
  "metadata": {
    "colab": {
      "provenance": [],
      "authorship_tag": "ABX9TyNHmuKLkEHtcKo+/bua0/Wj",
      "include_colab_link": true
    },
    "kernelspec": {
      "name": "python3",
      "display_name": "Python 3"
    },
    "language_info": {
      "name": "python"
    }
  },
  "cells": [
    {
      "cell_type": "markdown",
      "metadata": {
        "id": "view-in-github",
        "colab_type": "text"
      },
      "source": [
        "<a href=\"https://colab.research.google.com/github/dilrabonu/Datasets/blob/main/DataScienceEcosystem.ipynb\" target=\"_parent\"><img src=\"https://colab.research.google.com/assets/colab-badge.svg\" alt=\"Open In Colab\"/></a>"
      ]
    },
    {
      "cell_type": "code",
      "execution_count": 1,
      "metadata": {
        "colab": {
          "base_uri": "https://localhost:8080/"
        },
        "id": "1_OkDZpmotri",
        "outputId": "bde1a8dc-3c14-4053-8ee3-65a08f8045d9"
      },
      "outputs": [
        {
          "output_type": "stream",
          "name": "stdout",
          "text": [
            "Data Science Tools and Ecosystem\n"
          ]
        }
      ],
      "source": [
        "print(\"Data Science Tools and Ecosystem\")"
      ]
    },
    {
      "cell_type": "code",
      "source": [
        "print(\"In this notebook, Data Science Tools and Ecosystem are summarized.\")"
      ],
      "metadata": {
        "colab": {
          "base_uri": "https://localhost:8080/"
        },
        "id": "qSJNeGYBp2Jc",
        "outputId": "dda66ee6-1e47-44ee-ec58-abd0dd14367e"
      },
      "execution_count": 2,
      "outputs": [
        {
          "output_type": "stream",
          "name": "stdout",
          "text": [
            "In this notebook, Data Science Tools and Ecosystem are summarized.\n"
          ]
        }
      ]
    },
    {
      "cell_type": "markdown",
      "source": [
        "Python is popular in Data Science"
      ],
      "metadata": {
        "id": "V8uOeLGZrTG6"
      }
    },
    {
      "cell_type": "code",
      "source": [
        "#List\n",
        "languages=[\"Python\", \"R\", \"Java\", \"C++\"]\n",
        "print(languages)"
      ],
      "metadata": {
        "colab": {
          "base_uri": "https://localhost:8080/"
        },
        "id": "IoKpd95dqTsm",
        "outputId": "13a65a56-b94e-4df5-91d9-2f5b1d85214a"
      },
      "execution_count": 5,
      "outputs": [
        {
          "output_type": "stream",
          "name": "stdout",
          "text": [
            "['Python', 'R', 'Java', 'C++']\n"
          ]
        }
      ]
    },
    {
      "cell_type": "code",
      "source": [
        "libraries=[\"Numpy\", \"Pandas\", \"Matplotlib\"]\n",
        "print(libraries)"
      ],
      "metadata": {
        "colab": {
          "base_uri": "https://localhost:8080/"
        },
        "id": "HjcGrSpIrnW-",
        "outputId": "ecb83296-d144-4bd8-9087-d604ae995df7"
      },
      "execution_count": 4,
      "outputs": [
        {
          "output_type": "stream",
          "name": "stdout",
          "text": [
            "['Numpy', 'Pandas', 'Matplotlib']\n"
          ]
        }
      ]
    },
    {
      "cell_type": "code",
      "source": [
        "tools=[\"Apache Spark\", \"Matlab\", \"BigML\", \"Jupyter\"]\n",
        "tools"
      ],
      "metadata": {
        "colab": {
          "base_uri": "https://localhost:8080/"
        },
        "id": "wDDB3KfesQzO",
        "outputId": "50391665-ad59-4186-b818-ea2844ba4e48"
      },
      "execution_count": 6,
      "outputs": [
        {
          "output_type": "execute_result",
          "data": {
            "text/plain": [
              "['Apache Spark', 'Matlab', 'BigML', 'Jupyter']"
            ]
          },
          "metadata": {},
          "execution_count": 6
        }
      ]
    },
    {
      "cell_type": "code",
      "source": [
        "a=3\n",
        "b=5\n",
        "c=(a+b)\n",
        "c"
      ],
      "metadata": {
        "colab": {
          "base_uri": "https://localhost:8080/"
        },
        "id": "c0oU0m2_w635",
        "outputId": "4edcec83-fdc9-480e-c706-afafe357efa5"
      },
      "execution_count": 7,
      "outputs": [
        {
          "output_type": "execute_result",
          "data": {
            "text/plain": [
              "8"
            ]
          },
          "metadata": {},
          "execution_count": 7
        }
      ]
    },
    {
      "cell_type": "code",
      "source": [
        "a=(3*4)+5\n",
        "a"
      ],
      "metadata": {
        "colab": {
          "base_uri": "https://localhost:8080/"
        },
        "id": "hhl1NX_pxd4_",
        "outputId": "f27924d2-2bbf-46d9-c14b-542a73e789ec"
      },
      "execution_count": 8,
      "outputs": [
        {
          "output_type": "execute_result",
          "data": {
            "text/plain": [
              "17"
            ]
          },
          "metadata": {},
          "execution_count": 8
        }
      ]
    },
    {
      "cell_type": "code",
      "source": [
        "a=200/60\n",
        "print(\"This will convert 200 minutes to hours by diving by 60\", a)"
      ],
      "metadata": {
        "colab": {
          "base_uri": "https://localhost:8080/"
        },
        "id": "LAZJTdWXxyQ-",
        "outputId": "0f185f9e-a2a3-4acb-cc87-2edc2cca701d"
      },
      "execution_count": 9,
      "outputs": [
        {
          "output_type": "stream",
          "name": "stdout",
          "text": [
            "This will convert 200 minutes to hours by diving by 60 3.3333333333333335\n"
          ]
        }
      ]
    },
    {
      "cell_type": "markdown",
      "source": [
        "**Objectives**"
      ],
      "metadata": {
        "id": "ciFEs4CbzU9s"
      }
    },
    {
      "cell_type": "code",
      "source": [
        "unordered_list=[\"R\", \"Python\", \"Java\", \"Javascript\"]\n",
        "unordered_list"
      ],
      "metadata": {
        "colab": {
          "base_uri": "https://localhost:8080/"
        },
        "id": "L4AKSMt1ynog",
        "outputId": "67e066f8-4abb-43fc-f0b8-99f63635945c"
      },
      "execution_count": 10,
      "outputs": [
        {
          "output_type": "execute_result",
          "data": {
            "text/plain": [
              "['R', 'Python', 'Java', 'Javascript']"
            ]
          },
          "metadata": {},
          "execution_count": 10
        }
      ]
    },
    {
      "cell_type": "code",
      "source": [
        "Author=[\"Dilrabo\"]\n",
        "Author"
      ],
      "metadata": {
        "colab": {
          "base_uri": "https://localhost:8080/"
        },
        "id": "lDaiGKfbzk23",
        "outputId": "8849179d-119e-4208-f7bc-fdabb4103ee2"
      },
      "execution_count": 12,
      "outputs": [
        {
          "output_type": "execute_result",
          "data": {
            "text/plain": [
              "['Dilrabo']"
            ]
          },
          "metadata": {},
          "execution_count": 12
        }
      ]
    },
    {
      "cell_type": "code",
      "source": [],
      "metadata": {
        "id": "07shG4QY0DOS"
      },
      "execution_count": null,
      "outputs": []
    }
  ]
}
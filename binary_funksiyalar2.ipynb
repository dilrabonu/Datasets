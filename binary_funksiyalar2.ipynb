{
  "nbformat": 4,
  "nbformat_minor": 0,
  "metadata": {
    "colab": {
      "provenance": [],
      "authorship_tag": "ABX9TyMmPS7FED4QGbnUCfSbnG76",
      "include_colab_link": true
    },
    "kernelspec": {
      "name": "python3",
      "display_name": "Python 3"
    },
    "language_info": {
      "name": "python"
    }
  },
  "cells": [
    {
      "cell_type": "markdown",
      "metadata": {
        "id": "view-in-github",
        "colab_type": "text"
      },
      "source": [
        "<a href=\"https://colab.research.google.com/github/dilrabonu/python-step1/blob/main/binary_funksiyalar2.ipynb\" target=\"_parent\"><img src=\"https://colab.research.google.com/assets/colab-badge.svg\" alt=\"Open In Colab\"/></a>"
      ]
    },
    {
      "cell_type": "code",
      "execution_count": 1,
      "metadata": {
        "id": "flRHt_vP6GSH"
      },
      "outputs": [],
      "source": [
        "import numpy as np"
      ]
    },
    {
      "cell_type": "code",
      "source": [
        "arr2=np.random.randn(6)\n",
        "arr3=np.random.randn(6)\n"
      ],
      "metadata": {
        "id": "wjZPr_Iq6NQL"
      },
      "execution_count": 3,
      "outputs": []
    },
    {
      "cell_type": "code",
      "source": [
        "arr2"
      ],
      "metadata": {
        "colab": {
          "base_uri": "https://localhost:8080/"
        },
        "id": "pqvBMuTx6jrn",
        "outputId": "497bd6e5-5b2b-4920-e9c6-fa8cb14cda38"
      },
      "execution_count": 4,
      "outputs": [
        {
          "output_type": "execute_result",
          "data": {
            "text/plain": [
              "array([ 0.89001401,  1.03782354,  1.26255002,  0.79328323, -1.12905142,\n",
              "       -0.62337461])"
            ]
          },
          "metadata": {},
          "execution_count": 4
        }
      ]
    },
    {
      "cell_type": "code",
      "source": [
        "arr3"
      ],
      "metadata": {
        "colab": {
          "base_uri": "https://localhost:8080/"
        },
        "id": "duC6X8Km6kY7",
        "outputId": "f668856b-34fe-4777-a04e-b9471767bbde"
      },
      "execution_count": 5,
      "outputs": [
        {
          "output_type": "execute_result",
          "data": {
            "text/plain": [
              "array([-0.76336085, -0.45802991, -0.55945778, -0.48505172,  0.23713974,\n",
              "       -0.21970781])"
            ]
          },
          "metadata": {},
          "execution_count": 5
        }
      ]
    },
    {
      "cell_type": "code",
      "source": [
        "np.add(arr2, arr3) # arr2 va arr3 ni mos ravishda qo'shib beradi"
      ],
      "metadata": {
        "colab": {
          "base_uri": "https://localhost:8080/"
        },
        "id": "fkUZB2Uo6lAb",
        "outputId": "f1db4fd6-7fcb-455c-e721-4d6be486d655"
      },
      "execution_count": 6,
      "outputs": [
        {
          "output_type": "execute_result",
          "data": {
            "text/plain": [
              "array([ 0.12665316,  0.57979363,  0.70309225,  0.30823151, -0.89191168,\n",
              "       -0.84308242])"
            ]
          },
          "metadata": {},
          "execution_count": 6
        }
      ]
    },
    {
      "cell_type": "code",
      "source": [
        "arr2+arr3 # yuqoridagi array bn bir xil"
      ],
      "metadata": {
        "colab": {
          "base_uri": "https://localhost:8080/"
        },
        "id": "dRovOvhN6zWF",
        "outputId": "817a985e-7b4f-4609-de79-73dcdbe042be"
      },
      "execution_count": 7,
      "outputs": [
        {
          "output_type": "execute_result",
          "data": {
            "text/plain": [
              "array([ 0.12665316,  0.57979363,  0.70309225,  0.30823151, -0.89191168,\n",
              "       -0.84308242])"
            ]
          },
          "metadata": {},
          "execution_count": 7
        }
      ]
    },
    {
      "cell_type": "code",
      "source": [
        "np.multiply(arr2, arr3) # arr2 va 3 ni mos ravishda ko'paytiradi"
      ],
      "metadata": {
        "colab": {
          "base_uri": "https://localhost:8080/"
        },
        "id": "iWvEpN2S7c37",
        "outputId": "c1d30353-ac4c-42d4-f6a4-814d910e8c91"
      },
      "execution_count": 8,
      "outputs": [
        {
          "output_type": "execute_result",
          "data": {
            "text/plain": [
              "array([-0.67940185, -0.47535422, -0.70634343, -0.38478339, -0.26774296,\n",
              "        0.13696027])"
            ]
          },
          "metadata": {},
          "execution_count": 8
        }
      ]
    },
    {
      "cell_type": "code",
      "source": [
        "np.maximum(arr2, arr3) # 2ta massivni taqqoslab katta qiymatini qaytaradi"
      ],
      "metadata": {
        "colab": {
          "base_uri": "https://localhost:8080/"
        },
        "id": "ugqFKq6c72Yl",
        "outputId": "68eaf603-63dc-4ea0-cc64-06bb68580be4"
      },
      "execution_count": 9,
      "outputs": [
        {
          "output_type": "execute_result",
          "data": {
            "text/plain": [
              "array([ 0.89001401,  1.03782354,  1.26255002,  0.79328323,  0.23713974,\n",
              "       -0.21970781])"
            ]
          },
          "metadata": {},
          "execution_count": 9
        }
      ]
    },
    {
      "cell_type": "code",
      "source": [
        "np.minimum(arr2, arr3) # taqqoslab kichigini qaytaradi"
      ],
      "metadata": {
        "colab": {
          "base_uri": "https://localhost:8080/"
        },
        "id": "UePQrl448NhX",
        "outputId": "94018349-11e3-4253-9183-064e19c8e815"
      },
      "execution_count": 10,
      "outputs": [
        {
          "output_type": "execute_result",
          "data": {
            "text/plain": [
              "array([-0.76336085, -0.45802991, -0.55945778, -0.48505172, -1.12905142,\n",
              "       -0.62337461])"
            ]
          },
          "metadata": {},
          "execution_count": 10
        }
      ]
    },
    {
      "cell_type": "code",
      "source": [
        "np.fmax(arr2, arr3) # bu ham kattasini qaytaradi"
      ],
      "metadata": {
        "colab": {
          "base_uri": "https://localhost:8080/"
        },
        "id": "n89M7kLc8XeF",
        "outputId": "a964e512-2e1e-4880-938c-7616a04e032f"
      },
      "execution_count": 12,
      "outputs": [
        {
          "output_type": "execute_result",
          "data": {
            "text/plain": [
              "array([ 0.89001401,  1.03782354,  1.26255002,  0.79328323,  0.23713974,\n",
              "       -0.21970781])"
            ]
          },
          "metadata": {},
          "execution_count": 12
        }
      ]
    },
    {
      "cell_type": "code",
      "source": [],
      "metadata": {
        "id": "Q3pWTmio8fkd"
      },
      "execution_count": null,
      "outputs": []
    }
  ]
}
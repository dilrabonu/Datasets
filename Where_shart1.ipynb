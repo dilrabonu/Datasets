{
  "nbformat": 4,
  "nbformat_minor": 0,
  "metadata": {
    "colab": {
      "provenance": [],
      "authorship_tag": "ABX9TyMji9/HZ0DPzWMdAV+79Xlq",
      "include_colab_link": true
    },
    "kernelspec": {
      "name": "python3",
      "display_name": "Python 3"
    },
    "language_info": {
      "name": "python"
    }
  },
  "cells": [
    {
      "cell_type": "markdown",
      "metadata": {
        "id": "view-in-github",
        "colab_type": "text"
      },
      "source": [
        "<a href=\"https://colab.research.google.com/github/dilrabonu/python-step1/blob/main/Where_shart1.ipynb\" target=\"_parent\"><img src=\"https://colab.research.google.com/assets/colab-badge.svg\" alt=\"Open In Colab\"/></a>"
      ]
    },
    {
      "cell_type": "code",
      "execution_count": 1,
      "metadata": {
        "id": "Hwz83vWLMMSt"
      },
      "outputs": [],
      "source": [
        "import numpy as np"
      ]
    },
    {
      "cell_type": "code",
      "source": [
        "xarr= np.array([1.1, 1.2, 1.3, 1.4, 1.5])\n",
        "yarr=np.array ([2.1, 2.2, 2.3, 2.4, 2.5])"
      ],
      "metadata": {
        "id": "0UDm11AFMPIL"
      },
      "execution_count": 2,
      "outputs": []
    },
    {
      "cell_type": "code",
      "source": [
        "#shart\n",
        "cond=np.array ([True, False, True, True, False])\n"
      ],
      "metadata": {
        "id": "HNqpdqhONc60"
      },
      "execution_count": 3,
      "outputs": []
    },
    {
      "cell_type": "code",
      "source": [
        "#where\n",
        "result= np.where(cond, xarr, yarr) #cond==True bolsa-xarr, cond==false bo'lsa-yarr\n",
        "result"
      ],
      "metadata": {
        "colab": {
          "base_uri": "https://localhost:8080/"
        },
        "id": "oe9ukSJ5NrIa",
        "outputId": "c8038417-4459-412c-e46c-7423b982e1b1"
      },
      "execution_count": 4,
      "outputs": [
        {
          "output_type": "execute_result",
          "data": {
            "text/plain": [
              "array([1.1, 2.2, 1.3, 1.4, 2.5])"
            ]
          },
          "metadata": {},
          "execution_count": 4
        }
      ]
    },
    {
      "cell_type": "code",
      "source": [
        "arr=np.random.randn (4, 4) # (4, 4) taxminiy massiv yaratish\n",
        "arr"
      ],
      "metadata": {
        "colab": {
          "base_uri": "https://localhost:8080/"
        },
        "id": "kGb8ON3wOKLV",
        "outputId": "77f03ed8-89b2-47ad-e969-291498b127fa"
      },
      "execution_count": 5,
      "outputs": [
        {
          "output_type": "execute_result",
          "data": {
            "text/plain": [
              "array([[ 0.48440715, -0.81790166, -0.35445934, -0.47235799],\n",
              "       [ 0.14753632, -0.4938588 , -0.59662991,  0.70911289],\n",
              "       [-0.23976222,  0.80437478, -2.08986677, -1.02189418],\n",
              "       [-0.57736972,  0.95475858, -0.4880131 , -0.8887362 ]])"
            ]
          },
          "metadata": {},
          "execution_count": 5
        }
      ]
    },
    {
      "cell_type": "code",
      "source": [
        "results= np.where(arr<0, -2, 2) # arr ning manfiylarini -2 ga, musbatlarni esa2 ga aylantiradi\n",
        "results"
      ],
      "metadata": {
        "colab": {
          "base_uri": "https://localhost:8080/"
        },
        "id": "xJf0T-dqPAvh",
        "outputId": "32705b89-fdc7-424b-c7c4-989be05192f5"
      },
      "execution_count": 6,
      "outputs": [
        {
          "output_type": "execute_result",
          "data": {
            "text/plain": [
              "array([[ 2, -2, -2, -2],\n",
              "       [ 2, -2, -2,  2],\n",
              "       [-2,  2, -2, -2],\n",
              "       [-2,  2, -2, -2]])"
            ]
          },
          "metadata": {},
          "execution_count": 6
        }
      ]
    },
    {
      "cell_type": "code",
      "source": [
        "arr1=np.random.randn (5, 5)\n",
        "arr1"
      ],
      "metadata": {
        "colab": {
          "base_uri": "https://localhost:8080/"
        },
        "id": "P00MFoNjPUWr",
        "outputId": "a769c110-0f08-46f6-aa52-f10f63e5b85f"
      },
      "execution_count": 7,
      "outputs": [
        {
          "output_type": "execute_result",
          "data": {
            "text/plain": [
              "array([[-0.96660643,  0.46092945, -0.07339273,  0.46901897, -0.28456878],\n",
              "       [-0.39541544, -0.51645555,  2.6498604 ,  0.73357814,  1.0912341 ],\n",
              "       [ 0.0291691 ,  1.94387881,  1.86753247, -0.17214788, -1.48354479],\n",
              "       [ 1.47848176, -0.71727612,  1.24245305,  0.2194312 ,  0.30441966],\n",
              "       [ 1.39813433,  1.98165931,  0.90491402, -0.66584396, -0.9098139 ]])"
            ]
          },
          "metadata": {},
          "execution_count": 7
        }
      ]
    },
    {
      "cell_type": "code",
      "source": [
        "r=np.where(arr1>0, 5, 3)\n",
        "r"
      ],
      "metadata": {
        "colab": {
          "base_uri": "https://localhost:8080/"
        },
        "id": "4AYhCEklPmnq",
        "outputId": "2a0dc2be-ebf5-4567-b5a6-33c83d8b854c"
      },
      "execution_count": 8,
      "outputs": [
        {
          "output_type": "execute_result",
          "data": {
            "text/plain": [
              "array([[3, 5, 3, 5, 3],\n",
              "       [3, 3, 5, 5, 5],\n",
              "       [5, 5, 5, 3, 3],\n",
              "       [5, 3, 5, 5, 5],\n",
              "       [5, 5, 5, 3, 3]])"
            ]
          },
          "metadata": {},
          "execution_count": 8
        }
      ]
    },
    {
      "cell_type": "code",
      "source": [],
      "metadata": {
        "id": "NHJde0s7PwdM"
      },
      "execution_count": null,
      "outputs": []
    }
  ]
}